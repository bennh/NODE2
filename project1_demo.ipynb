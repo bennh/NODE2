{
 "cells": [
  {
   "cell_type": "markdown",
   "id": "4109b7d4",
   "metadata": {},
   "source": [
    "# Pyridine Parameter Estimation (Direct Multiple Shooting + GN)\n",
    "\n",
    "This notebook sets up the Pyridine dynamic system, generates synthetic noisy data, formulates the direct multiple shooting problem, and solves it using the Generalized Gauss-Newton method. We then compare the estimated trajectory with the true data."
   ]
  },
  {
   "cell_type": "code",
   "execution_count": null,
   "id": "381c0c49",
   "metadata": {},
   "outputs": [],
   "source": [
    "# Imports\n",
    "import numpy as np\n",
    "import matplotlib.pyplot as plt\n",
    "from multiple_shooting import setup_multiple_shooting\n",
    "from cnlls_solver import solve_cnlls_gauss_newton\n",
    "from pyridine import make_pyridine_integrator, get_initial_state, get_true_parameters, simulate_pyridine\n",
    "from utils import add_noise, evaluate_fit"
   ]
  },
  {
   "cell_type": "markdown",
   "id": "85cf69de",
   "metadata": {},
   "source": [
    "## Define Pyridine System and Generate Data\n",
    "\n",
    "We define the time horizon and generate synthetic noisy measurements from the true system."
   ]
  },
  {
   "cell_type": "code",
   "execution_count": null,
   "id": "5dac5bc0",
   "metadata": {},
   "outputs": [],
   "source": [
    "# Problem setup\n",
    "N = 20          # number of shooting intervals\n",
    "T = 6.0         # final time\n",
    "t_grid = np.linspace(0, T, N+1)  # time grid of length N+1\n",
    "dt = t_grid[1] - t_grid[0]       # time step\n",
    "\n",
    "# True initial state and parameters\n",
    "x0_true = get_initial_state()\n",
    "p_true = get_true_parameters()\n",
    "\n",
    "# Create integrator for the system\n",
    "F = make_pyridine_integrator(dt)\n",
    "\n",
    "# Simulate true trajectory (no noise)\n",
    "y_true = simulate_pyridine(F, x0_true, p_true, N)\n",
    "\n",
    "# Add Gaussian noise to simulated measurements (keeping initial exact)\n",
    "noise_level = 0.01\n",
    "y_meas_noisy = y_true.copy()\n",
    "y_meas_noisy[1:] = add_noise(y_true[1:], noise_level=noise_level)"
   ]
  },
  {
   "cell_type": "markdown",
   "id": "1c177c21",
   "metadata": {},
   "source": [
    "## Set Up Multiple Shooting Problem\n",
    "\n",
    "We create symbolic variables for the multiple shooting formulation."
   ]
  },
  {
   "cell_type": "code",
   "execution_count": null,
   "id": "f3fbf324",
   "metadata": {},
   "outputs": [],
   "source": [
    "nx = x0_true.size\n",
    "np_p = p_true.size\n",
    "\n",
    "# Setup multiple shooting\n",
    "w_sym, X_end, g_sym, F2, F3, S_vars, P_var = setup_multiple_shooting(F, N, nx, np_p)\n",
    "\n",
    "# Construct the residual vector F1 (difference between model and measurements)\n",
    "# Note: y_meas_noisy has shape (N+1, 7), we compare interval end states to measurements at next time\n",
    "F1 = []\n",
    "for i in range(N):\n",
    "    Yi = X_end[i] - y_meas_noisy[i+1]  # CASADI will treat the numpy array as constant\n",
    "    F1.append(Yi)\n",
    "F1 = ca.vertcat(*F1)"
   ]
  },
  {
   "cell_type": "markdown",
   "id": "ebe5091f",
   "metadata": {},
   "source": [
    "## Solve with Generalized Gauss-Newton\n",
    "\n",
    "We use the GGN solver to estimate the initial states and parameters."
   ]
  },
  {
   "cell_type": "code",
   "execution_count": null,
   "id": "53f45931",
   "metadata": {},
   "outputs": [],
   "source": [
    "# Initial guess: use noisy measurements (except last) for S_vars and ones for parameters\n",
    "w0 = np.concatenate([y_meas_noisy[:-1].reshape(-1), np.ones(np_p)])\n",
    "\n",
    "# Solve using Gauss-Newton method\n",
    "result_gn = solve_cnlls_gauss_newton(w=w_sym, F1=F1, g=g_sym, F2=F2, F3=F3, w0=w0, max_iter=20, tol=1e-6)\n",
    "w_opt = result_gn['x']\n",
    "p_opt = w_opt[-np_p:]  # estimated parameters\n",
    "\n",
    "print(\"True parameters:     \", p_true)\n",
    "print(\"Estimated parameters:\", np.round(p_opt, 4))\n",
    "print(\"Converged:\", result_gn['converged'], \" in iterations:\", result_gn['iterations'])"
   ]
  },
  {
   "cell_type": "markdown",
   "id": "cb6e6a1d",
   "metadata": {},
   "source": [
    "## Compare Trajectories\n",
    "\n",
    "Simulate the system with the estimated parameters and compare the trajectories."
   ]
  },
  {
   "cell_type": "code",
   "execution_count": null,
   "id": "6b259811",
   "metadata": {},
   "outputs": [],
   "source": [
    "# Simulate with estimated parameters\n",
    "y_est = simulate_pyridine(F, x0_true, p_opt, N)\n",
    "\n",
    "# Evaluate fit (RMSE, MAE) for each species\n",
    "evaluate_fit(y_true, y_est, t_grid, label=\"GGN\")\n",
    "\n",
    "# Plot comparison for selected species\n",
    "plt.figure(figsize=(8,6))\n",
    "species_indices = [0, 1, 3, 5, 6]  # indices of species to plot\n",
    "markers = ['o', 'D', 's', '^', 'v']\n",
    "labels = ['Pyridine', 'Piperidin', 'N-Pentylpiperidin', 'Ammonia', 'Pentan']\n",
    "\n",
    "for idx, marker, label in zip(species_indices, markers, labels):\n",
    "    # Measured (noisy) data\n",
    "    plt.plot(t_grid, y_meas_noisy[:, idx], marker+':', label=f\"{label} (meas)\", alpha=0.6)\n",
    "    # Estimated trajectory\n",
    "    plt.plot(t_grid, y_est[:, idx], '-', label=f\"{label} (est)\")\n",
    "\n",
    "plt.xlabel('Time')\n",
    "plt.ylabel('Concentration')\n",
    "plt.title('Pyridine System: Measured vs Estimated Trajectories')\n",
    "plt.legend()\n",
    "plt.grid(True)\n",
    "plt.tight_layout()\n",
    "plt.show()"
   ]
  },
  {
   "cell_type": "markdown",
   "id": "bc17bfd4",
   "metadata": {},
   "source": [
    "The above plot shows the noisy measurements (markers) and the fitted trajectories (lines) for selected species. The printed errors (RMSE and MAE) quantify the fit quality for each species."
   ]
  }
 ],
 "metadata": {
  "language_info": {
   "name": "python"
  }
 },
 "nbformat": 4,
 "nbformat_minor": 5
}
