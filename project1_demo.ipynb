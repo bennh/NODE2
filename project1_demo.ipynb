# 导入必要模块
import numpy as np
import matplotlib.pyplot as plt
from multiple_shooting import setup_multiple_shooting
from cnlls_solver import solve_cnlls_ipopt, solve_cnlls_gauss_newton
from pyridine import make_pyridine_integrator
from utils import generate_measurements, evaluate_fit

# 设定模拟参数
nx = 7                    # 状态维度
np_p = 11                 # 参数维度
N = 20                    # 射击区间数
T = 6.0                   # 总时间
t_grid = np.linspace(0, T, N+1)
dt = t_grid[1] - t_grid[0]

# 真实参数（示例值）和初始状态
p_true = np.array([1.81, 0.894, 29.4, 9.21, 0.058, 2.43, 0.0644, 5.55, 0.0201, 0.577, 2.15])
x0_true = np.zeros(nx)
x0_true[0] = 1.0  # Pyridin 初始浓度

# 创建积分器并生成无噪声测量数据
F = make_pyridine_integrator(dt)
y_full = generate_measurements(F, x0_true, p_true, N, noise_level=0.0)
# 添加少量噪声以模拟实际测量
y_meas = y_full.copy()
y_meas[1:] = y_full[1:]  # 先拷贝干净数据
y_meas = evaluate_fit(y_full, y_meas, t_grid, label="No Noise")  # 打印全零误差
np.random.seed(123)
y_meas[1:] = y_full[1:] + 0.01 * np.random.randn(N, nx)

# 构建多重射击模型
w, X_end, g, F2, F3, S_vars, P_var = setup_multiple_shooting(F, N, nx, np_p, x0=x0_true, nonneg=False)

# 构造目标残差 F1 = 模型预测 - 测量值（不含初始点）
F1 = ca.vertcat(*[X_end[i] - y_meas[i+1] for i in range(N)])

# 设置初始猜测：将每段初始状态设为测量值，每个参数设为1.0
w0_state = y_meas[:-1].reshape(-1)   # 将 N 段的状态值排开
w0_params = np.ones(np_p)
w0 = np.concatenate([w0_state, w0_params])

# --- 高斯-牛顿 求解 ---
res_gn = solve_cnlls_gauss_newton(w, F1, ca.vertcat(g, F2), w0, n_params=np_p)
w_opt_gn = res_gn['x']
p_est_gn = w_opt_gn[-np_p:]
print("Gauss-Newton 估计参数：", p_est_gn)

# 还原并模拟GN拟合轨迹
y_est_gn = np.zeros_like(y_full)
y_est_gn[0] = x0_true
x = x0_true.copy()
for i in range(1, N+1):
    res = F(x0=x, p=p_est_gn)
    x = res['xf'].full().flatten()
    y_est_gn[i] = x

# 评估GN拟合质量
evaluate_fit(y_full, y_est_gn, t_grid, label="Gauss-Newton")

#  --- IPOPT 求解 ---
res_ipopt = solve_cnlls_ipopt(w, F1, ca.vertcat(g, F2), w0, n_params=np_p)
w_opt_ipopt = res_ipopt['x']
p_est_ipopt = w_opt_ipopt[-np_p:]
print("IPOPT 估计参数：", p_est_ipopt)

# 模拟IPOPT拟合轨迹
y_est_ipopt = np.zeros_like(y_full)
y_est_ipopt[0] = x0_true
x = x0_true.copy()
for i in range(1, N+1):
    res = F(x0=x, p=p_est_ipopt)
    x = res['xf'].full().flatten()
    y_est_ipopt[i] = x

# 评估IPOPT拟合质量
evaluate_fit(y_full, y_est_ipopt, t_grid, label="IPOPT")

# --- 可视化比较 ---
plt.figure(figsize=(8,6))
for i, name in enumerate(['Pyridin','Piperidin','Pentylamin','N-Pentylpiperidin','Dipentylamin','Ammonia','Pentan']):
    plt.subplot(4,2,i+1)
    plt.plot(t_grid, y_meas[:,i], 'o', label='Measured', alpha=0.5)
    plt.plot(t_grid, y_est_gn[:,i], '-', label='GN Fit')
    plt.plot(t_grid, y_est_ipopt[:,i], '--', label='IPOPT Fit')
    plt.title(name)
    if i == 0:
        plt.legend()
plt.tight_layout()
plt.show()
