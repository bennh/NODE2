{
 "cells": [
  {
   "cell_type": "code",
   "execution_count": 6,
   "id": "0fc784f6-b6bc-41b4-999b-adbabd1369b8",
   "metadata": {},
   "outputs": [
    {
     "name": "stdout",
     "output_type": "stream",
     "text": [
      "Direct Multiple Shooting problem successfully built.\n"
     ]
    }
   ],
   "source": [
    "# Milestone 1: Direct Multiple Shooting Template (CasADi)\n",
    "\n",
    "import casadi as ca\n",
    "import numpy as np\n",
    "\n",
    "# === 1. Define the dynamic system (you can replace this with Pyridine later) ===\n",
    "nx = 2  # state dimension\n",
    "np_ = 1  # parameter dimension\n",
    "y = ca.MX.sym(\"y\", nx)\n",
    "p = ca.MX.sym(\"p\", np_)\n",
    "\n",
    "# Example: simple linear system dy/dt = A*y * p\n",
    "A = ca.DM([[0, 1], [-1, -0.1]])\n",
    "dydt = ca.mtimes(A, y) * p  # f(y, p)\n",
    "f = ca.Function(\"f\", [y, p], [dydt])\n",
    "\n",
    "# === 2. Set up integrator ===\n",
    "dt = 0.2  # time step\n",
    "integrator = ca.integrator(\n",
    "    \"phi\", \"cvodes\",\n",
    "    {\"x\": y, \"p\": p, \"ode\": dydt},\n",
    "    {\"tf\": dt}\n",
    ")\n",
    "\n",
    "# === 3. Create shooting variables ===\n",
    "m = 5  # number of shooting intervals\n",
    "s_y = [ca.MX.sym(f\"s_y_{i}\", nx) for i in range(m + 1)]\n",
    "p_sym = ca.MX.sym(\"p\", np_)\n",
    "\n",
    "# === 4. Define residual functions ===\n",
    "F1_terms = []  # measurement residuals\n",
    "F2_terms = []  # continuity constraints\n",
    "\n",
    "# Simulate artificial measurements for testing\n",
    "true_p = 2.0\n",
    "true_y0 = np.array([1.0, 0.0])\n",
    "tgrid = np.linspace(0, m * dt, m + 1)\n",
    "ys_true = [true_y0]\n",
    "for i in range(m):\n",
    "    result = integrator(x0=ys_true[-1], p=true_p)\n",
    "    ys_true.append(result[\"xf\"].full().flatten())\n",
    "y_meas = [y + np.random.normal(0, 0.05, size=nx) for y in ys_true]\n",
    "\n",
    "# Build residuals and constraints\n",
    "for i in range(m):\n",
    "    sim = integrator(x0=s_y[i], p=p_sym)\n",
    "    y_end = sim[\"xf\"]\n",
    "    F2_terms.append(s_y[i+1] - y_end)  # continuity\n",
    "    F1_terms.append(s_y[i+1] - y_meas[i+1])  # measurement residual (simple version)\n",
    "\n",
    "F1 = ca.vertcat(*F1_terms)\n",
    "F2 = ca.vertcat(*F2_terms)\n",
    "z = ca.vertcat(*s_y, p_sym)\n",
    "\n",
    "F1_fun = ca.Function(\"F1\", [z], [F1])\n",
    "F2_fun = ca.Function(\"F2\", [z], [F2])\n",
    "\n",
    "print(\"Direct Multiple Shooting problem successfully built.\")\n"
   ]
  },
  {
   "cell_type": "code",
   "execution_count": null,
   "id": "0bbe98f5-a22b-40ab-aaf2-ff5d3bc8df41",
   "metadata": {},
   "outputs": [],
   "source": []
  }
 ],
 "metadata": {
  "kernelspec": {
   "display_name": "Python 3 (ipykernel)",
   "language": "python",
   "name": "python3"
  },
  "language_info": {
   "codemirror_mode": {
    "name": "ipython",
    "version": 3
   },
   "file_extension": ".py",
   "mimetype": "text/x-python",
   "name": "python",
   "nbconvert_exporter": "python",
   "pygments_lexer": "ipython3",
   "version": "3.13.2"
  }
 },
 "nbformat": 4,
 "nbformat_minor": 5
}
